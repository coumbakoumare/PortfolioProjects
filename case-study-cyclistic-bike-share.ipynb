{
 "cells": [
  {
   "cell_type": "code",
   "execution_count": 1,
   "id": "39a918fa",
   "metadata": {
    "execution": {
     "iopub.execute_input": "2022-04-29T15:49:28.950816Z",
     "iopub.status.busy": "2022-04-29T15:49:28.948533Z",
     "iopub.status.idle": "2022-04-29T15:50:23.690618Z",
     "shell.execute_reply": "2022-04-29T15:50:23.688283Z"
    },
    "papermill": {
     "duration": 54.755047,
     "end_time": "2022-04-29T15:50:23.698043",
     "exception": false,
     "start_time": "2022-04-29T15:49:28.942996",
     "status": "completed"
    },
    "tags": [],
    "vscode": {
     "languageId": "r"
    }
   },
   "outputs": [],
   "source": [
    "#=====================\n",
    "# STEP 1: COLLECT DATA\n",
    "#=====================\n",
    "q2_2019 <- readxl::read_excel(\"../input/divvy-trips-dataset/Divvy_Trips_2019_Q2.xlsx\")\n",
    "q3_2019 <- readxl::read_excel(\"../input/divvy-trips-dataset/Divvy_Trips_2019_Q3.xlsx\")\n",
    "q4_2019 <- readxl::read_excel(\"../input/divvy-trips-dataset/Divvy_Trips_2019_Q4.xlsx\")\n",
    "q1_2020 <- readxl::read_excel(\"../input/divvy-trips-dataset/Divvy_Trips_2020_Q1.xlsx\")\n"
   ]
  },
  {
   "cell_type": "code",
   "execution_count": null,
   "id": "4011ae97",
   "metadata": {
    "_kg_hide-input": true,
    "_kg_hide-output": true,
    "execution": {
     "iopub.execute_input": "2022-04-29T15:50:23.781208Z",
     "iopub.status.busy": "2022-04-29T15:50:23.710180Z",
     "iopub.status.idle": "2022-04-29T15:52:08.801666Z",
     "shell.execute_reply": "2022-04-29T15:52:08.799718Z"
    },
    "papermill": {
     "duration": 105.100576,
     "end_time": "2022-04-29T15:52:08.804894",
     "exception": false,
     "start_time": "2022-04-29T15:50:23.704318",
     "status": "completed"
    },
    "tags": [],
    "vscode": {
     "languageId": "r"
    }
   },
   "outputs": [],
   "source": [
    "#Install and load plyr package and afterwards the dplyr package\n",
    "\n",
    "install.packages(\"plyr\")\n",
    "library(\"plyr\")\n",
    "install.packages(\"dplyr\")\n",
    "library(\"dplyr\")\n",
    "# # # # # # # # # # # # # # # # # # # # # # # \n",
    "# Install required packages\n",
    "  install.packages (\"tidyverse\") \n",
    "  install.packages (\"lubridate\")\n",
    "  install.packages (\"ggplot\")\n",
    "# # # # # # # # # # # # # # # # # # # # # # #  \n",
    "\n",
    "library(\"tidyverse\")  \n",
    "library(\"lubridate\")\n",
    "library(\"ggplot2\") "
   ]
  },
  {
   "cell_type": "code",
   "execution_count": 3,
   "id": "f3112b56",
   "metadata": {
    "execution": {
     "iopub.execute_input": "2022-04-29T15:52:08.821403Z",
     "iopub.status.busy": "2022-04-29T15:52:08.819370Z",
     "iopub.status.idle": "2022-04-29T15:52:08.899280Z",
     "shell.execute_reply": "2022-04-29T15:52:08.897475Z"
    },
    "papermill": {
     "duration": 0.089185,
     "end_time": "2022-04-29T15:52:08.901729",
     "exception": false,
     "start_time": "2022-04-29T15:52:08.812544",
     "status": "completed"
    },
    "tags": [],
    "vscode": {
     "languageId": "r"
    }
   },
   "outputs": [
    {
     "data": {
      "text/html": [
       "<style>\n",
       ".list-inline {list-style: none; margin:0; padding: 0}\n",
       ".list-inline>li {display: inline-block}\n",
       ".list-inline>li:not(:last-child)::after {content: \"\\00b7\"; padding: 0 .5ex}\n",
       "</style>\n",
       "<ol class=list-inline><li>'trip_id'</li><li>'start_time'</li><li>'end_time'</li><li>'bikeid'</li><li>'tripduration'</li><li>'from_station_id'</li><li>'from_station_name'</li><li>'to_station_id'</li><li>'to_station_name'</li><li>'usertype'</li><li>'gender'</li><li>'birthyear'</li></ol>\n"
      ],
      "text/latex": [
       "\\begin{enumerate*}\n",
       "\\item 'trip\\_id'\n",
       "\\item 'start\\_time'\n",
       "\\item 'end\\_time'\n",
       "\\item 'bikeid'\n",
       "\\item 'tripduration'\n",
       "\\item 'from\\_station\\_id'\n",
       "\\item 'from\\_station\\_name'\n",
       "\\item 'to\\_station\\_id'\n",
       "\\item 'to\\_station\\_name'\n",
       "\\item 'usertype'\n",
       "\\item 'gender'\n",
       "\\item 'birthyear'\n",
       "\\end{enumerate*}\n"
      ],
      "text/markdown": [
       "1. 'trip_id'\n",
       "2. 'start_time'\n",
       "3. 'end_time'\n",
       "4. 'bikeid'\n",
       "5. 'tripduration'\n",
       "6. 'from_station_id'\n",
       "7. 'from_station_name'\n",
       "8. 'to_station_id'\n",
       "9. 'to_station_name'\n",
       "10. 'usertype'\n",
       "11. 'gender'\n",
       "12. 'birthyear'\n",
       "\n",
       "\n"
      ],
      "text/plain": [
       " [1] \"trip_id\"           \"start_time\"        \"end_time\"         \n",
       " [4] \"bikeid\"            \"tripduration\"      \"from_station_id\"  \n",
       " [7] \"from_station_name\" \"to_station_id\"     \"to_station_name\"  \n",
       "[10] \"usertype\"          \"gender\"            \"birthyear\"        "
      ]
     },
     "metadata": {},
     "output_type": "display_data"
    },
    {
     "data": {
      "text/html": [
       "<style>\n",
       ".list-inline {list-style: none; margin:0; padding: 0}\n",
       ".list-inline>li {display: inline-block}\n",
       ".list-inline>li:not(:last-child)::after {content: \"\\00b7\"; padding: 0 .5ex}\n",
       "</style>\n",
       "<ol class=list-inline><li>'trip_id'</li><li>'start_time'</li><li>'end_time'</li><li>'bikeid'</li><li>'tripduration'</li><li>'from_station_id'</li><li>'from_station_name'</li><li>'to_station_id'</li><li>'to_station_name'</li><li>'usertype'</li><li>'gender'</li><li>'birthyear'</li></ol>\n"
      ],
      "text/latex": [
       "\\begin{enumerate*}\n",
       "\\item 'trip\\_id'\n",
       "\\item 'start\\_time'\n",
       "\\item 'end\\_time'\n",
       "\\item 'bikeid'\n",
       "\\item 'tripduration'\n",
       "\\item 'from\\_station\\_id'\n",
       "\\item 'from\\_station\\_name'\n",
       "\\item 'to\\_station\\_id'\n",
       "\\item 'to\\_station\\_name'\n",
       "\\item 'usertype'\n",
       "\\item 'gender'\n",
       "\\item 'birthyear'\n",
       "\\end{enumerate*}\n"
      ],
      "text/markdown": [
       "1. 'trip_id'\n",
       "2. 'start_time'\n",
       "3. 'end_time'\n",
       "4. 'bikeid'\n",
       "5. 'tripduration'\n",
       "6. 'from_station_id'\n",
       "7. 'from_station_name'\n",
       "8. 'to_station_id'\n",
       "9. 'to_station_name'\n",
       "10. 'usertype'\n",
       "11. 'gender'\n",
       "12. 'birthyear'\n",
       "\n",
       "\n"
      ],
      "text/plain": [
       " [1] \"trip_id\"           \"start_time\"        \"end_time\"         \n",
       " [4] \"bikeid\"            \"tripduration\"      \"from_station_id\"  \n",
       " [7] \"from_station_name\" \"to_station_id\"     \"to_station_name\"  \n",
       "[10] \"usertype\"          \"gender\"            \"birthyear\"        "
      ]
     },
     "metadata": {},
     "output_type": "display_data"
    },
    {
     "data": {
      "text/html": [
       "<style>\n",
       ".list-inline {list-style: none; margin:0; padding: 0}\n",
       ".list-inline>li {display: inline-block}\n",
       ".list-inline>li:not(:last-child)::after {content: \"\\00b7\"; padding: 0 .5ex}\n",
       "</style>\n",
       "<ol class=list-inline><li>'01 - Rental Details Rental ID'</li><li>'01 - Rental Details Local Start Time'</li><li>'01 - Rental Details Local End Time'</li><li>'01 - Rental Details Bike ID'</li><li>'01 - Rental Details Duration In Seconds Uncapped'</li><li>'03 - Rental Start Station ID'</li><li>'03 - Rental Start Station Name'</li><li>'02 - Rental End Station ID'</li><li>'02 - Rental End Station Name'</li><li>'User Type'</li><li>'Member Gender'</li><li>'05 - Member Details Member Birthday Year'</li></ol>\n"
      ],
      "text/latex": [
       "\\begin{enumerate*}\n",
       "\\item '01 - Rental Details Rental ID'\n",
       "\\item '01 - Rental Details Local Start Time'\n",
       "\\item '01 - Rental Details Local End Time'\n",
       "\\item '01 - Rental Details Bike ID'\n",
       "\\item '01 - Rental Details Duration In Seconds Uncapped'\n",
       "\\item '03 - Rental Start Station ID'\n",
       "\\item '03 - Rental Start Station Name'\n",
       "\\item '02 - Rental End Station ID'\n",
       "\\item '02 - Rental End Station Name'\n",
       "\\item 'User Type'\n",
       "\\item 'Member Gender'\n",
       "\\item '05 - Member Details Member Birthday Year'\n",
       "\\end{enumerate*}\n"
      ],
      "text/markdown": [
       "1. '01 - Rental Details Rental ID'\n",
       "2. '01 - Rental Details Local Start Time'\n",
       "3. '01 - Rental Details Local End Time'\n",
       "4. '01 - Rental Details Bike ID'\n",
       "5. '01 - Rental Details Duration In Seconds Uncapped'\n",
       "6. '03 - Rental Start Station ID'\n",
       "7. '03 - Rental Start Station Name'\n",
       "8. '02 - Rental End Station ID'\n",
       "9. '02 - Rental End Station Name'\n",
       "10. 'User Type'\n",
       "11. 'Member Gender'\n",
       "12. '05 - Member Details Member Birthday Year'\n",
       "\n",
       "\n"
      ],
      "text/plain": [
       " [1] \"01 - Rental Details Rental ID\"                   \n",
       " [2] \"01 - Rental Details Local Start Time\"            \n",
       " [3] \"01 - Rental Details Local End Time\"              \n",
       " [4] \"01 - Rental Details Bike ID\"                     \n",
       " [5] \"01 - Rental Details Duration In Seconds Uncapped\"\n",
       " [6] \"03 - Rental Start Station ID\"                    \n",
       " [7] \"03 - Rental Start Station Name\"                  \n",
       " [8] \"02 - Rental End Station ID\"                      \n",
       " [9] \"02 - Rental End Station Name\"                    \n",
       "[10] \"User Type\"                                       \n",
       "[11] \"Member Gender\"                                   \n",
       "[12] \"05 - Member Details Member Birthday Year\"        "
      ]
     },
     "metadata": {},
     "output_type": "display_data"
    },
    {
     "data": {
      "text/html": [
       "<style>\n",
       ".list-inline {list-style: none; margin:0; padding: 0}\n",
       ".list-inline>li {display: inline-block}\n",
       ".list-inline>li:not(:last-child)::after {content: \"\\00b7\"; padding: 0 .5ex}\n",
       "</style>\n",
       "<ol class=list-inline><li>'ride_id'</li><li>'rideable_type'</li><li>'started_at'</li><li>'ended_at'</li><li>'start_station_name'</li><li>'start_station_id'</li><li>'end_station_name'</li><li>'end_station_id'</li><li>'start_lat'</li><li>'start_lng'</li><li>'end_lat'</li><li>'end_lng'</li><li>'member_casual'</li></ol>\n"
      ],
      "text/latex": [
       "\\begin{enumerate*}\n",
       "\\item 'ride\\_id'\n",
       "\\item 'rideable\\_type'\n",
       "\\item 'started\\_at'\n",
       "\\item 'ended\\_at'\n",
       "\\item 'start\\_station\\_name'\n",
       "\\item 'start\\_station\\_id'\n",
       "\\item 'end\\_station\\_name'\n",
       "\\item 'end\\_station\\_id'\n",
       "\\item 'start\\_lat'\n",
       "\\item 'start\\_lng'\n",
       "\\item 'end\\_lat'\n",
       "\\item 'end\\_lng'\n",
       "\\item 'member\\_casual'\n",
       "\\end{enumerate*}\n"
      ],
      "text/markdown": [
       "1. 'ride_id'\n",
       "2. 'rideable_type'\n",
       "3. 'started_at'\n",
       "4. 'ended_at'\n",
       "5. 'start_station_name'\n",
       "6. 'start_station_id'\n",
       "7. 'end_station_name'\n",
       "8. 'end_station_id'\n",
       "9. 'start_lat'\n",
       "10. 'start_lng'\n",
       "11. 'end_lat'\n",
       "12. 'end_lng'\n",
       "13. 'member_casual'\n",
       "\n",
       "\n"
      ],
      "text/plain": [
       " [1] \"ride_id\"            \"rideable_type\"      \"started_at\"        \n",
       " [4] \"ended_at\"           \"start_station_name\" \"start_station_id\"  \n",
       " [7] \"end_station_name\"   \"end_station_id\"     \"start_lat\"         \n",
       "[10] \"start_lng\"          \"end_lat\"            \"end_lng\"           \n",
       "[13] \"member_casual\"     "
      ]
     },
     "metadata": {},
     "output_type": "display_data"
    }
   ],
   "source": [
    "#====================================================\n",
    "# STEP 2: WRANGLE DATA AND COMBINE INTO A SINGLE FILE\n",
    "#====================================================\n",
    "# Compare column names for each of the files\n",
    "# While the names don't have to be in the same order, they DO need to match perfectly before we can use a command to join them into one file\n",
    "colnames(q3_2019)\n",
    "colnames(q4_2019)\n",
    "colnames(q2_2019)\n",
    "colnames(q1_2020)"
   ]
  },
  {
   "cell_type": "code",
   "execution_count": 4,
   "id": "d48a2a93",
   "metadata": {
    "execution": {
     "iopub.execute_input": "2022-04-29T15:52:08.917398Z",
     "iopub.status.busy": "2022-04-29T15:52:08.915796Z",
     "iopub.status.idle": "2022-04-29T15:52:08.994554Z",
     "shell.execute_reply": "2022-04-29T15:52:08.992669Z"
    },
    "papermill": {
     "duration": 0.089267,
     "end_time": "2022-04-29T15:52:08.997154",
     "exception": false,
     "start_time": "2022-04-29T15:52:08.907887",
     "status": "completed"
    },
    "tags": [],
    "vscode": {
     "languageId": "r"
    }
   },
   "outputs": [],
   "source": [
    "# I rename columns to make them consistent with q1_2020 (as this will be the supposed going-forward table design for Divvy)\n",
    "q4_2019 <- rename(q4_2019\n",
    "                  ,ride_id = trip_id\n",
    "                  ,rideable_type = bikeid \n",
    "                  ,started_at = start_time  \n",
    "                  ,ended_at = end_time  \n",
    "                  ,start_station_name = from_station_name \n",
    "                  ,start_station_id = from_station_id \n",
    "                  ,end_station_name = to_station_name \n",
    "                  ,end_station_id = to_station_id \n",
    "                  ,member_casual = usertype)\n",
    "\n",
    "q3_2019 <- rename(q3_2019\n",
    "                  ,ride_id = trip_id\n",
    "                  ,rideable_type = bikeid \n",
    "                  ,started_at = start_time  \n",
    "                  ,ended_at = end_time  \n",
    "                  ,start_station_name = from_station_name \n",
    "                  ,start_station_id = from_station_id \n",
    "                  ,end_station_name = to_station_name \n",
    "                  ,end_station_id = to_station_id \n",
    "                  ,member_casual = usertype)\n",
    "\n",
    "q2_2019 <- rename(q2_2019\n",
    "                  ,ride_id = \"01 - Rental Details Rental ID\"\n",
    "                  ,rideable_type = \"01 - Rental Details Bike ID\" \n",
    "                  ,started_at = \"01 - Rental Details Local Start Time\"  \n",
    "                  ,ended_at = \"01 - Rental Details Local End Time\"  \n",
    "                  ,start_station_name = \"03 - Rental Start Station Name\" \n",
    "                  ,start_station_id = \"03 - Rental Start Station ID\"\n",
    "                  ,end_station_name = \"02 - Rental End Station Name\" \n",
    "                  ,end_station_id = \"02 - Rental End Station ID\"\n",
    "                  ,member_casual = \"User Type\")\n"
   ]
  },
  {
   "cell_type": "code",
   "execution_count": null,
   "id": "bf25e23c",
   "metadata": {
    "execution": {
     "iopub.execute_input": "2022-04-29T15:52:09.012604Z",
     "iopub.status.busy": "2022-04-29T15:52:09.010885Z",
     "iopub.status.idle": "2022-04-29T15:52:09.134580Z",
     "shell.execute_reply": "2022-04-29T15:52:09.131633Z"
    },
    "papermill": {
     "duration": 0.134496,
     "end_time": "2022-04-29T15:52:09.137660",
     "exception": false,
     "start_time": "2022-04-29T15:52:09.003164",
     "status": "completed"
    },
    "tags": [],
    "vscode": {
     "languageId": "r"
    }
   },
   "outputs": [],
   "source": [
    "# I inspect the dataframes and look for incongruencies\n",
    "str(q1_2020)\n",
    "str(q4_2019)\n",
    "str(q3_2019)\n",
    "str(q2_2019)"
   ]
  },
  {
   "cell_type": "code",
   "execution_count": 6,
   "id": "ea3047f1",
   "metadata": {
    "execution": {
     "iopub.execute_input": "2022-04-29T15:52:09.153998Z",
     "iopub.status.busy": "2022-04-29T15:52:09.152302Z",
     "iopub.status.idle": "2022-04-29T15:52:20.293878Z",
     "shell.execute_reply": "2022-04-29T15:52:20.292048Z"
    },
    "papermill": {
     "duration": 11.153369,
     "end_time": "2022-04-29T15:52:20.297463",
     "exception": false,
     "start_time": "2022-04-29T15:52:09.144094",
     "status": "completed"
    },
    "tags": [],
    "vscode": {
     "languageId": "r"
    }
   },
   "outputs": [],
   "source": [
    "# I convert ride_id and rideable_type to character so that they can stack correctly\n",
    "q4_2019 <-  mutate(q4_2019, ride_id = as.character(ride_id)\n",
    "                   ,rideable_type = as.character(rideable_type)) \n",
    "q3_2019 <-  mutate(q3_2019, ride_id = as.character(ride_id)\n",
    "                   ,rideable_type = as.character(rideable_type)) \n",
    "q2_2019 <-  mutate(q2_2019, ride_id = as.character(ride_id)\n",
    "                   ,rideable_type = as.character(rideable_type))\n",
    "\n",
    "# Stack individual quarter's data frames into one big data frame\n",
    "all_trips <- bind_rows(q2_2019, q3_2019, q4_2019, q1_2020)\n",
    "\n",
    "# Remove lat, long, birthyear, and gender fields as those columns were dropped beginning in 2020\n",
    "all_trips <- all_trips %>%  \n",
    "  select(-c(start_lat, start_lng, end_lat, end_lng, birthyear, gender, \"01 - Rental Details Duration In Seconds Uncapped\", \"05 - Member Details Member Birthday Year\", \"Member Gender\", \"tripduration\"))\n"
   ]
  },
  {
   "cell_type": "code",
   "execution_count": 7,
   "id": "2235d3f5",
   "metadata": {
    "execution": {
     "iopub.execute_input": "2022-04-29T15:52:20.313830Z",
     "iopub.status.busy": "2022-04-29T15:52:20.312187Z",
     "iopub.status.idle": "2022-04-29T15:52:21.215083Z",
     "shell.execute_reply": "2022-04-29T15:52:21.212176Z"
    },
    "papermill": {
     "duration": 0.914615,
     "end_time": "2022-04-29T15:52:21.218412",
     "exception": false,
     "start_time": "2022-04-29T15:52:20.303797",
     "status": "completed"
    },
    "tags": [],
    "vscode": {
     "languageId": "r"
    }
   },
   "outputs": [
    {
     "data": {
      "text/html": [
       "<style>\n",
       ".list-inline {list-style: none; margin:0; padding: 0}\n",
       ".list-inline>li {display: inline-block}\n",
       ".list-inline>li:not(:last-child)::after {content: \"\\00b7\"; padding: 0 .5ex}\n",
       "</style>\n",
       "<ol class=list-inline><li>'ride_id'</li><li>'started_at'</li><li>'ended_at'</li><li>'rideable_type'</li><li>'start_station_id'</li><li>'start_station_name'</li><li>'end_station_id'</li><li>'end_station_name'</li><li>'member_casual'</li></ol>\n"
      ],
      "text/latex": [
       "\\begin{enumerate*}\n",
       "\\item 'ride\\_id'\n",
       "\\item 'started\\_at'\n",
       "\\item 'ended\\_at'\n",
       "\\item 'rideable\\_type'\n",
       "\\item 'start\\_station\\_id'\n",
       "\\item 'start\\_station\\_name'\n",
       "\\item 'end\\_station\\_id'\n",
       "\\item 'end\\_station\\_name'\n",
       "\\item 'member\\_casual'\n",
       "\\end{enumerate*}\n"
      ],
      "text/markdown": [
       "1. 'ride_id'\n",
       "2. 'started_at'\n",
       "3. 'ended_at'\n",
       "4. 'rideable_type'\n",
       "5. 'start_station_id'\n",
       "6. 'start_station_name'\n",
       "7. 'end_station_id'\n",
       "8. 'end_station_name'\n",
       "9. 'member_casual'\n",
       "\n",
       "\n"
      ],
      "text/plain": [
       "[1] \"ride_id\"            \"started_at\"         \"ended_at\"          \n",
       "[4] \"rideable_type\"      \"start_station_id\"   \"start_station_name\"\n",
       "[7] \"end_station_id\"     \"end_station_name\"   \"member_casual\"     "
      ]
     },
     "metadata": {},
     "output_type": "display_data"
    },
    {
     "data": {
      "text/html": [
       "3228091"
      ],
      "text/latex": [
       "3228091"
      ],
      "text/markdown": [
       "3228091"
      ],
      "text/plain": [
       "[1] 3228091"
      ]
     },
     "metadata": {},
     "output_type": "display_data"
    },
    {
     "data": {
      "text/html": [
       "<style>\n",
       ".list-inline {list-style: none; margin:0; padding: 0}\n",
       ".list-inline>li {display: inline-block}\n",
       ".list-inline>li:not(:last-child)::after {content: \"\\00b7\"; padding: 0 .5ex}\n",
       "</style>\n",
       "<ol class=list-inline><li>3228091</li><li>9</li></ol>\n"
      ],
      "text/latex": [
       "\\begin{enumerate*}\n",
       "\\item 3228091\n",
       "\\item 9\n",
       "\\end{enumerate*}\n"
      ],
      "text/markdown": [
       "1. 3228091\n",
       "2. 9\n",
       "\n",
       "\n"
      ],
      "text/plain": [
       "[1] 3228091       9"
      ]
     },
     "metadata": {},
     "output_type": "display_data"
    },
    {
     "data": {
      "text/html": [
       "<table class=\"dataframe\">\n",
       "<caption>A tibble: 6 × 9</caption>\n",
       "<thead>\n",
       "\t<tr><th scope=col>ride_id</th><th scope=col>started_at</th><th scope=col>ended_at</th><th scope=col>rideable_type</th><th scope=col>start_station_id</th><th scope=col>start_station_name</th><th scope=col>end_station_id</th><th scope=col>end_station_name</th><th scope=col>member_casual</th></tr>\n",
       "\t<tr><th scope=col>&lt;chr&gt;</th><th scope=col>&lt;dttm&gt;</th><th scope=col>&lt;dttm&gt;</th><th scope=col>&lt;chr&gt;</th><th scope=col>&lt;dbl&gt;</th><th scope=col>&lt;chr&gt;</th><th scope=col>&lt;dbl&gt;</th><th scope=col>&lt;chr&gt;</th><th scope=col>&lt;chr&gt;</th></tr>\n",
       "</thead>\n",
       "<tbody>\n",
       "\t<tr><td>22178529</td><td>2019-04-01 00:02:22</td><td>2019-04-01 00:09:48</td><td>6251</td><td> 81</td><td><span style=white-space:pre-wrap>Daley Center Plaza       </span></td><td> 56</td><td>Desplaines St &amp; Kinzie St</td><td>Subscriber</td></tr>\n",
       "\t<tr><td>22178530</td><td>2019-04-01 00:03:02</td><td>2019-04-01 00:20:30</td><td>6226</td><td>317</td><td><span style=white-space:pre-wrap>Wood St &amp; Taylor St      </span></td><td> 59</td><td>Wabash Ave &amp; Roosevelt Rd</td><td>Subscriber</td></tr>\n",
       "\t<tr><td>22178531</td><td>2019-04-01 00:11:07</td><td>2019-04-01 00:15:19</td><td>5649</td><td>283</td><td>LaSalle St &amp; Jackson Blvd</td><td>174</td><td><span style=white-space:pre-wrap>Canal St &amp; Madison St    </span></td><td>Subscriber</td></tr>\n",
       "\t<tr><td>22178532</td><td>2019-04-01 00:13:01</td><td>2019-04-01 00:18:58</td><td>4151</td><td> 26</td><td>McClurg Ct &amp; Illinois St </td><td>133</td><td>Kingsbury St &amp; Kinzie St </td><td>Subscriber</td></tr>\n",
       "\t<tr><td>22178533</td><td>2019-04-01 00:19:26</td><td>2019-04-01 00:36:13</td><td>3270</td><td>202</td><td><span style=white-space:pre-wrap>Halsted St &amp; 18th St     </span></td><td>129</td><td>Blue Island Ave &amp; 18th St</td><td>Subscriber</td></tr>\n",
       "\t<tr><td>22178534</td><td>2019-04-01 00:19:39</td><td>2019-04-01 00:23:56</td><td>3123</td><td>420</td><td><span style=white-space:pre-wrap>Ellis Ave &amp; 55th St      </span></td><td>426</td><td><span style=white-space:pre-wrap>Ellis Ave &amp; 60th St      </span></td><td>Subscriber</td></tr>\n",
       "</tbody>\n",
       "</table>\n"
      ],
      "text/latex": [
       "A tibble: 6 × 9\n",
       "\\begin{tabular}{lllllllll}\n",
       " ride\\_id & started\\_at & ended\\_at & rideable\\_type & start\\_station\\_id & start\\_station\\_name & end\\_station\\_id & end\\_station\\_name & member\\_casual\\\\\n",
       " <chr> & <dttm> & <dttm> & <chr> & <dbl> & <chr> & <dbl> & <chr> & <chr>\\\\\n",
       "\\hline\n",
       "\t 22178529 & 2019-04-01 00:02:22 & 2019-04-01 00:09:48 & 6251 &  81 & Daley Center Plaza        &  56 & Desplaines St \\& Kinzie St & Subscriber\\\\\n",
       "\t 22178530 & 2019-04-01 00:03:02 & 2019-04-01 00:20:30 & 6226 & 317 & Wood St \\& Taylor St       &  59 & Wabash Ave \\& Roosevelt Rd & Subscriber\\\\\n",
       "\t 22178531 & 2019-04-01 00:11:07 & 2019-04-01 00:15:19 & 5649 & 283 & LaSalle St \\& Jackson Blvd & 174 & Canal St \\& Madison St     & Subscriber\\\\\n",
       "\t 22178532 & 2019-04-01 00:13:01 & 2019-04-01 00:18:58 & 4151 &  26 & McClurg Ct \\& Illinois St  & 133 & Kingsbury St \\& Kinzie St  & Subscriber\\\\\n",
       "\t 22178533 & 2019-04-01 00:19:26 & 2019-04-01 00:36:13 & 3270 & 202 & Halsted St \\& 18th St      & 129 & Blue Island Ave \\& 18th St & Subscriber\\\\\n",
       "\t 22178534 & 2019-04-01 00:19:39 & 2019-04-01 00:23:56 & 3123 & 420 & Ellis Ave \\& 55th St       & 426 & Ellis Ave \\& 60th St       & Subscriber\\\\\n",
       "\\end{tabular}\n"
      ],
      "text/markdown": [
       "\n",
       "A tibble: 6 × 9\n",
       "\n",
       "| ride_id &lt;chr&gt; | started_at &lt;dttm&gt; | ended_at &lt;dttm&gt; | rideable_type &lt;chr&gt; | start_station_id &lt;dbl&gt; | start_station_name &lt;chr&gt; | end_station_id &lt;dbl&gt; | end_station_name &lt;chr&gt; | member_casual &lt;chr&gt; |\n",
       "|---|---|---|---|---|---|---|---|---|\n",
       "| 22178529 | 2019-04-01 00:02:22 | 2019-04-01 00:09:48 | 6251 |  81 | Daley Center Plaza        |  56 | Desplaines St &amp; Kinzie St | Subscriber |\n",
       "| 22178530 | 2019-04-01 00:03:02 | 2019-04-01 00:20:30 | 6226 | 317 | Wood St &amp; Taylor St       |  59 | Wabash Ave &amp; Roosevelt Rd | Subscriber |\n",
       "| 22178531 | 2019-04-01 00:11:07 | 2019-04-01 00:15:19 | 5649 | 283 | LaSalle St &amp; Jackson Blvd | 174 | Canal St &amp; Madison St     | Subscriber |\n",
       "| 22178532 | 2019-04-01 00:13:01 | 2019-04-01 00:18:58 | 4151 |  26 | McClurg Ct &amp; Illinois St  | 133 | Kingsbury St &amp; Kinzie St  | Subscriber |\n",
       "| 22178533 | 2019-04-01 00:19:26 | 2019-04-01 00:36:13 | 3270 | 202 | Halsted St &amp; 18th St      | 129 | Blue Island Ave &amp; 18th St | Subscriber |\n",
       "| 22178534 | 2019-04-01 00:19:39 | 2019-04-01 00:23:56 | 3123 | 420 | Ellis Ave &amp; 55th St       | 426 | Ellis Ave &amp; 60th St       | Subscriber |\n",
       "\n"
      ],
      "text/plain": [
       "  ride_id  started_at          ended_at            rideable_type\n",
       "1 22178529 2019-04-01 00:02:22 2019-04-01 00:09:48 6251         \n",
       "2 22178530 2019-04-01 00:03:02 2019-04-01 00:20:30 6226         \n",
       "3 22178531 2019-04-01 00:11:07 2019-04-01 00:15:19 5649         \n",
       "4 22178532 2019-04-01 00:13:01 2019-04-01 00:18:58 4151         \n",
       "5 22178533 2019-04-01 00:19:26 2019-04-01 00:36:13 3270         \n",
       "6 22178534 2019-04-01 00:19:39 2019-04-01 00:23:56 3123         \n",
       "  start_station_id start_station_name        end_station_id\n",
       "1  81              Daley Center Plaza         56           \n",
       "2 317              Wood St & Taylor St        59           \n",
       "3 283              LaSalle St & Jackson Blvd 174           \n",
       "4  26              McClurg Ct & Illinois St  133           \n",
       "5 202              Halsted St & 18th St      129           \n",
       "6 420              Ellis Ave & 55th St       426           \n",
       "  end_station_name          member_casual\n",
       "1 Desplaines St & Kinzie St Subscriber   \n",
       "2 Wabash Ave & Roosevelt Rd Subscriber   \n",
       "3 Canal St & Madison St     Subscriber   \n",
       "4 Kingsbury St & Kinzie St  Subscriber   \n",
       "5 Blue Island Ave & 18th St Subscriber   \n",
       "6 Ellis Ave & 60th St       Subscriber   "
      ]
     },
     "metadata": {},
     "output_type": "display_data"
    },
    {
     "name": "stdout",
     "output_type": "stream",
     "text": [
      "tibble [3,228,091 × 9] (S3: tbl_df/tbl/data.frame)\n",
      " $ ride_id           : chr [1:3228091] \"22178529\" \"22178530\" \"22178531\" \"22178532\" ...\n",
      " $ started_at        : POSIXct[1:3228091], format: \"2019-04-01 00:02:22\" \"2019-04-01 00:03:02\" ...\n",
      " $ ended_at          : POSIXct[1:3228091], format: \"2019-04-01 00:09:48\" \"2019-04-01 00:20:30\" ...\n",
      " $ rideable_type     : chr [1:3228091] \"6251\" \"6226\" \"5649\" \"4151\" ...\n",
      " $ start_station_id  : num [1:3228091] 81 317 283 26 202 420 503 260 211 211 ...\n",
      " $ start_station_name: chr [1:3228091] \"Daley Center Plaza\" \"Wood St & Taylor St\" \"LaSalle St & Jackson Blvd\" \"McClurg Ct & Illinois St\" ...\n",
      " $ end_station_id    : num [1:3228091] 56 59 174 133 129 426 500 499 211 211 ...\n",
      " $ end_station_name  : chr [1:3228091] \"Desplaines St & Kinzie St\" \"Wabash Ave & Roosevelt Rd\" \"Canal St & Madison St\" \"Kingsbury St & Kinzie St\" ...\n",
      " $ member_casual     : chr [1:3228091] \"Subscriber\" \"Subscriber\" \"Subscriber\" \"Subscriber\" ...\n"
     ]
    },
    {
     "data": {
      "text/plain": [
       "   ride_id            started_at                     ended_at                  \n",
       " Length:3228091     Min.   :2019-04-01 00:02:22   Min.   :2019-04-01 00:09:48  \n",
       " Class :character   1st Qu.:2019-06-11 20:25:09   1st Qu.:2019-06-11 20:49:44  \n",
       " Mode  :character   Median :2019-08-01 13:50:26   Median :2019-08-01 14:18:30  \n",
       "                    Mean   :2019-08-23 20:42:03   Mean   :2019-08-23 21:06:37  \n",
       "                    3rd Qu.:2019-10-25 14:59:11   3rd Qu.:2019-10-25 15:20:19  \n",
       "                    Max.   :2020-03-31 23:51:34   Max.   :2020-05-19 20:10:34  \n",
       "                                                                               \n",
       " rideable_type      start_station_id start_station_name end_station_id \n",
       " Length:3228091     Min.   :  1.0    Length:3228091     Min.   :  1.0  \n",
       " Class :character   1st Qu.: 77.0    Class :character   1st Qu.: 77.0  \n",
       " Mode  :character   Median :174.0    Mode  :character   Median :174.0  \n",
       "                    Mean   :202.8                       Mean   :203.5  \n",
       "                    3rd Qu.:290.0                       3rd Qu.:291.0  \n",
       "                    Max.   :675.0                       Max.   :675.0  \n",
       "                                                        NA's   :1      \n",
       " end_station_name   member_casual     \n",
       " Length:3228091     Length:3228091    \n",
       " Class :character   Class :character  \n",
       " Mode  :character   Mode  :character  \n",
       "                                      \n",
       "                                      \n",
       "                                      \n",
       "                                      "
      ]
     },
     "metadata": {},
     "output_type": "display_data"
    }
   ],
   "source": [
    "#======================================================\n",
    "# STEP 3: CLEAN UP AND ADD DATA TO PREPARE FOR ANALYSIS\n",
    "#======================================================\n",
    "# Inspect the new table that has been created\n",
    "colnames(all_trips)  \n",
    "nrow(all_trips)  \n",
    "dim(all_trips)  \n",
    "head(all_trips)  \n",
    "str(all_trips)  \n",
    "summary(all_trips)"
   ]
  },
  {
   "cell_type": "markdown",
   "id": "cbc43a40",
   "metadata": {
    "papermill": {
     "duration": 0.007791,
     "end_time": "2022-04-29T15:52:21.239135",
     "exception": false,
     "start_time": "2022-04-29T15:52:21.231344",
     "status": "completed"
    },
    "tags": []
   },
   "source": [
    "There are a few problems I will need to fix:\n",
    "(1) In the \"member_casual\" column, there are two names for members (\"member\" and \"Subscriber\") and two names for casual riders (\"Customer\" and \"casual\"). I will consolidate that from four to two labels.\n",
    "(2) The data can only be aggregated at the ride-level, which is too granular. I will add additional columns of data -- such as day, month, year -- that provide additional opportunities to aggregate the data.\n",
    "(3) I will add a calculated field for length of ride since the 2020Q1 data did not have the \"tripduration\" column. I will add \"ride_length\" to the entire dataframe for consistency.\n",
    "(4) There are some rides where tripduration shows up as negative, I will delete these rides."
   ]
  },
  {
   "cell_type": "code",
   "execution_count": null,
   "id": "94c5d3e9",
   "metadata": {
    "execution": {
     "iopub.execute_input": "2022-04-29T15:52:21.261458Z",
     "iopub.status.busy": "2022-04-29T15:52:21.259849Z",
     "iopub.status.idle": "2022-04-29T15:52:34.782391Z",
     "shell.execute_reply": "2022-04-29T15:52:34.780362Z"
    },
    "papermill": {
     "duration": 13.536023,
     "end_time": "2022-04-29T15:52:34.785585",
     "exception": false,
     "start_time": "2022-04-29T15:52:21.249562",
     "status": "completed"
    },
    "tags": [],
    "vscode": {
     "languageId": "r"
    }
   },
   "outputs": [],
   "source": [
    "all_trips$member_casual \n",
    "\n",
    "# Reassign to the desired values (I will go with the current 2020 labels) - replace \"Subscriber\" with \"member\" and \"Customer\" with \"casual\"\n",
    "all_trips <-  all_trips %>% \n",
    "  mutate(member_casual = recode(member_casual\n",
    "                                ,\"Subscriber\" = \"member\"\n",
    "                                ,\"Customer\" = \"casual\"))\n",
    "\n",
    "# Check to make sure the proper number of observations were reassigned\n",
    "table(all_trips$member_casual)\n",
    "\n",
    "# Add columns that list the date, month, day, and year of each ride. \n",
    "all_trips$date <- as.Date(all_trips$started_at) \n",
    "all_trips$month <- format(as.Date(all_trips$date), \"%m\")\n",
    "all_trips$day <- format(as.Date(all_trips$date), \"%d\")\n",
    "all_trips$year <- format(as.Date(all_trips$date), \"%Y\")\n",
    "all_trips$day_of_week <- format(as.Date(all_trips$date), \"%A\")\n",
    "\n",
    "# Add a \"ride_length\" calculation to all_trips (in seconds)\n",
    "all_trips$ride_length <- difftime(all_trips$ended_at,all_trips$started_at)\n",
    "\n",
    "# Inspect the structure of the columns\n",
    "str(all_trips)\n",
    "\n",
    "# Convert \"ride_length\" from Factor to numeric so we can run calculations on the data\n",
    "is.factor(all_trips$ride_length)\n",
    "all_trips$ride_length <- as.numeric(as.character(all_trips$ride_length))\n",
    "is.numeric(all_trips$ride_length)\n",
    "\n",
    "# Remove \"bad\" data\n",
    "# The dataframe includes a few hundred negative ride_length. I will create a new version of the dataframe (v2) since I will be removing those data\n",
    "all_trips_v2 <- all_trips[!(all_trips$start_station_name == \"HQ QR\" | all_trips$ride_length<0),]"
   ]
  },
  {
   "cell_type": "code",
   "execution_count": 9,
   "id": "dc238ab9",
   "metadata": {
    "execution": {
     "iopub.execute_input": "2022-04-29T15:52:34.876177Z",
     "iopub.status.busy": "2022-04-29T15:52:34.874480Z",
     "iopub.status.idle": "2022-04-29T15:52:56.582847Z",
     "shell.execute_reply": "2022-04-29T15:52:56.580883Z"
    },
    "papermill": {
     "duration": 21.756414,
     "end_time": "2022-04-29T15:52:56.585703",
     "exception": false,
     "start_time": "2022-04-29T15:52:34.829289",
     "status": "completed"
    },
    "tags": [],
    "vscode": {
     "languageId": "r"
    }
   },
   "outputs": [
    {
     "data": {
      "text/html": [
       "1475.62814443148"
      ],
      "text/latex": [
       "1475.62814443148"
      ],
      "text/markdown": [
       "1475.62814443148"
      ],
      "text/plain": [
       "[1] 1475.628"
      ]
     },
     "metadata": {},
     "output_type": "display_data"
    },
    {
     "data": {
      "text/html": [
       "702"
      ],
      "text/latex": [
       "702"
      ],
      "text/markdown": [
       "702"
      ],
      "text/plain": [
       "[1] 702"
      ]
     },
     "metadata": {},
     "output_type": "display_data"
    },
    {
     "data": {
      "text/html": [
       "9387024"
      ],
      "text/latex": [
       "9387024"
      ],
      "text/markdown": [
       "9387024"
      ],
      "text/plain": [
       "[1] 9387024"
      ]
     },
     "metadata": {},
     "output_type": "display_data"
    },
    {
     "data": {
      "text/html": [
       "1"
      ],
      "text/latex": [
       "1"
      ],
      "text/markdown": [
       "1"
      ],
      "text/plain": [
       "[1] 1"
      ]
     },
     "metadata": {},
     "output_type": "display_data"
    },
    {
     "data": {
      "text/plain": [
       "   Min. 1st Qu.  Median    Mean 3rd Qu.    Max. \n",
       "      1     406     702    1476    1271 9387024 "
      ]
     },
     "metadata": {},
     "output_type": "display_data"
    },
    {
     "data": {
      "text/html": [
       "<table class=\"dataframe\">\n",
       "<caption>A data.frame: 2 × 2</caption>\n",
       "<thead>\n",
       "\t<tr><th scope=col>all_trips_v2$member_casual</th><th scope=col>all_trips_v2$ride_length</th></tr>\n",
       "\t<tr><th scope=col>&lt;chr&gt;</th><th scope=col>&lt;dbl&gt;</th></tr>\n",
       "</thead>\n",
       "<tbody>\n",
       "\t<tr><td>casual</td><td>3668.4961</td></tr>\n",
       "\t<tr><td>member</td><td> 843.0674</td></tr>\n",
       "</tbody>\n",
       "</table>\n"
      ],
      "text/latex": [
       "A data.frame: 2 × 2\n",
       "\\begin{tabular}{ll}\n",
       " all\\_trips\\_v2\\$member\\_casual & all\\_trips\\_v2\\$ride\\_length\\\\\n",
       " <chr> & <dbl>\\\\\n",
       "\\hline\n",
       "\t casual & 3668.4961\\\\\n",
       "\t member &  843.0674\\\\\n",
       "\\end{tabular}\n"
      ],
      "text/markdown": [
       "\n",
       "A data.frame: 2 × 2\n",
       "\n",
       "| all_trips_v2$member_casual &lt;chr&gt; | all_trips_v2$ride_length &lt;dbl&gt; |\n",
       "|---|---|\n",
       "| casual | 3668.4961 |\n",
       "| member |  843.0674 |\n",
       "\n"
      ],
      "text/plain": [
       "  all_trips_v2$member_casual all_trips_v2$ride_length\n",
       "1 casual                     3668.4961               \n",
       "2 member                      843.0674               "
      ]
     },
     "metadata": {},
     "output_type": "display_data"
    },
    {
     "data": {
      "text/html": [
       "<table class=\"dataframe\">\n",
       "<caption>A data.frame: 2 × 2</caption>\n",
       "<thead>\n",
       "\t<tr><th scope=col>all_trips_v2$member_casual</th><th scope=col>all_trips_v2$ride_length</th></tr>\n",
       "\t<tr><th scope=col>&lt;chr&gt;</th><th scope=col>&lt;dbl&gt;</th></tr>\n",
       "</thead>\n",
       "<tbody>\n",
       "\t<tr><td>casual</td><td>1556</td></tr>\n",
       "\t<tr><td>member</td><td> 584</td></tr>\n",
       "</tbody>\n",
       "</table>\n"
      ],
      "text/latex": [
       "A data.frame: 2 × 2\n",
       "\\begin{tabular}{ll}\n",
       " all\\_trips\\_v2\\$member\\_casual & all\\_trips\\_v2\\$ride\\_length\\\\\n",
       " <chr> & <dbl>\\\\\n",
       "\\hline\n",
       "\t casual & 1556\\\\\n",
       "\t member &  584\\\\\n",
       "\\end{tabular}\n"
      ],
      "text/markdown": [
       "\n",
       "A data.frame: 2 × 2\n",
       "\n",
       "| all_trips_v2$member_casual &lt;chr&gt; | all_trips_v2$ride_length &lt;dbl&gt; |\n",
       "|---|---|\n",
       "| casual | 1556 |\n",
       "| member |  584 |\n",
       "\n"
      ],
      "text/plain": [
       "  all_trips_v2$member_casual all_trips_v2$ride_length\n",
       "1 casual                     1556                    \n",
       "2 member                      584                    "
      ]
     },
     "metadata": {},
     "output_type": "display_data"
    },
    {
     "data": {
      "text/html": [
       "<table class=\"dataframe\">\n",
       "<caption>A data.frame: 2 × 2</caption>\n",
       "<thead>\n",
       "\t<tr><th scope=col>all_trips_v2$member_casual</th><th scope=col>all_trips_v2$ride_length</th></tr>\n",
       "\t<tr><th scope=col>&lt;chr&gt;</th><th scope=col>&lt;dbl&gt;</th></tr>\n",
       "</thead>\n",
       "<tbody>\n",
       "\t<tr><td>casual</td><td>9387024</td></tr>\n",
       "\t<tr><td>member</td><td>9056634</td></tr>\n",
       "</tbody>\n",
       "</table>\n"
      ],
      "text/latex": [
       "A data.frame: 2 × 2\n",
       "\\begin{tabular}{ll}\n",
       " all\\_trips\\_v2\\$member\\_casual & all\\_trips\\_v2\\$ride\\_length\\\\\n",
       " <chr> & <dbl>\\\\\n",
       "\\hline\n",
       "\t casual & 9387024\\\\\n",
       "\t member & 9056634\\\\\n",
       "\\end{tabular}\n"
      ],
      "text/markdown": [
       "\n",
       "A data.frame: 2 × 2\n",
       "\n",
       "| all_trips_v2$member_casual &lt;chr&gt; | all_trips_v2$ride_length &lt;dbl&gt; |\n",
       "|---|---|\n",
       "| casual | 9387024 |\n",
       "| member | 9056634 |\n",
       "\n"
      ],
      "text/plain": [
       "  all_trips_v2$member_casual all_trips_v2$ride_length\n",
       "1 casual                     9387024                 \n",
       "2 member                     9056634                 "
      ]
     },
     "metadata": {},
     "output_type": "display_data"
    },
    {
     "data": {
      "text/html": [
       "<table class=\"dataframe\">\n",
       "<caption>A data.frame: 2 × 2</caption>\n",
       "<thead>\n",
       "\t<tr><th scope=col>all_trips_v2$member_casual</th><th scope=col>all_trips_v2$ride_length</th></tr>\n",
       "\t<tr><th scope=col>&lt;chr&gt;</th><th scope=col>&lt;dbl&gt;</th></tr>\n",
       "</thead>\n",
       "<tbody>\n",
       "\t<tr><td>casual</td><td>2</td></tr>\n",
       "\t<tr><td>member</td><td>1</td></tr>\n",
       "</tbody>\n",
       "</table>\n"
      ],
      "text/latex": [
       "A data.frame: 2 × 2\n",
       "\\begin{tabular}{ll}\n",
       " all\\_trips\\_v2\\$member\\_casual & all\\_trips\\_v2\\$ride\\_length\\\\\n",
       " <chr> & <dbl>\\\\\n",
       "\\hline\n",
       "\t casual & 2\\\\\n",
       "\t member & 1\\\\\n",
       "\\end{tabular}\n"
      ],
      "text/markdown": [
       "\n",
       "A data.frame: 2 × 2\n",
       "\n",
       "| all_trips_v2$member_casual &lt;chr&gt; | all_trips_v2$ride_length &lt;dbl&gt; |\n",
       "|---|---|\n",
       "| casual | 2 |\n",
       "| member | 1 |\n",
       "\n"
      ],
      "text/plain": [
       "  all_trips_v2$member_casual all_trips_v2$ride_length\n",
       "1 casual                     2                       \n",
       "2 member                     1                       "
      ]
     },
     "metadata": {},
     "output_type": "display_data"
    },
    {
     "data": {
      "text/html": [
       "<table class=\"dataframe\">\n",
       "<caption>A data.frame: 14 × 3</caption>\n",
       "<thead>\n",
       "\t<tr><th scope=col>all_trips_v2$member_casual</th><th scope=col>all_trips_v2$day_of_week</th><th scope=col>all_trips_v2$ride_length</th></tr>\n",
       "\t<tr><th scope=col>&lt;chr&gt;</th><th scope=col>&lt;chr&gt;</th><th scope=col>&lt;dbl&gt;</th></tr>\n",
       "</thead>\n",
       "<tbody>\n",
       "\t<tr><td>casual</td><td>Friday   </td><td>3967.5253</td></tr>\n",
       "\t<tr><td>member</td><td>Friday   </td><td> 819.5637</td></tr>\n",
       "\t<tr><td>casual</td><td>Monday   </td><td>3472.6890</td></tr>\n",
       "\t<tr><td>member</td><td>Monday   </td><td> 832.8299</td></tr>\n",
       "\t<tr><td>casual</td><td>Saturday </td><td>3378.9383</td></tr>\n",
       "\t<tr><td>member</td><td>Saturday </td><td> 962.6956</td></tr>\n",
       "\t<tr><td>casual</td><td>Sunday   </td><td>3642.4692</td></tr>\n",
       "\t<tr><td>member</td><td>Sunday   </td><td> 918.0980</td></tr>\n",
       "\t<tr><td>casual</td><td>Thursday </td><td>3830.7830</td></tr>\n",
       "\t<tr><td>member</td><td>Thursday </td><td> 827.8968</td></tr>\n",
       "\t<tr><td>casual</td><td>Tuesday  </td><td>3722.9366</td></tr>\n",
       "\t<tr><td>member</td><td>Tuesday  </td><td> 817.0267</td></tr>\n",
       "\t<tr><td>casual</td><td>Wednesday</td><td>3923.3790</td></tr>\n",
       "\t<tr><td>member</td><td>Wednesday</td><td> 808.0839</td></tr>\n",
       "</tbody>\n",
       "</table>\n"
      ],
      "text/latex": [
       "A data.frame: 14 × 3\n",
       "\\begin{tabular}{lll}\n",
       " all\\_trips\\_v2\\$member\\_casual & all\\_trips\\_v2\\$day\\_of\\_week & all\\_trips\\_v2\\$ride\\_length\\\\\n",
       " <chr> & <chr> & <dbl>\\\\\n",
       "\\hline\n",
       "\t casual & Friday    & 3967.5253\\\\\n",
       "\t member & Friday    &  819.5637\\\\\n",
       "\t casual & Monday    & 3472.6890\\\\\n",
       "\t member & Monday    &  832.8299\\\\\n",
       "\t casual & Saturday  & 3378.9383\\\\\n",
       "\t member & Saturday  &  962.6956\\\\\n",
       "\t casual & Sunday    & 3642.4692\\\\\n",
       "\t member & Sunday    &  918.0980\\\\\n",
       "\t casual & Thursday  & 3830.7830\\\\\n",
       "\t member & Thursday  &  827.8968\\\\\n",
       "\t casual & Tuesday   & 3722.9366\\\\\n",
       "\t member & Tuesday   &  817.0267\\\\\n",
       "\t casual & Wednesday & 3923.3790\\\\\n",
       "\t member & Wednesday &  808.0839\\\\\n",
       "\\end{tabular}\n"
      ],
      "text/markdown": [
       "\n",
       "A data.frame: 14 × 3\n",
       "\n",
       "| all_trips_v2$member_casual &lt;chr&gt; | all_trips_v2$day_of_week &lt;chr&gt; | all_trips_v2$ride_length &lt;dbl&gt; |\n",
       "|---|---|---|\n",
       "| casual | Friday    | 3967.5253 |\n",
       "| member | Friday    |  819.5637 |\n",
       "| casual | Monday    | 3472.6890 |\n",
       "| member | Monday    |  832.8299 |\n",
       "| casual | Saturday  | 3378.9383 |\n",
       "| member | Saturday  |  962.6956 |\n",
       "| casual | Sunday    | 3642.4692 |\n",
       "| member | Sunday    |  918.0980 |\n",
       "| casual | Thursday  | 3830.7830 |\n",
       "| member | Thursday  |  827.8968 |\n",
       "| casual | Tuesday   | 3722.9366 |\n",
       "| member | Tuesday   |  817.0267 |\n",
       "| casual | Wednesday | 3923.3790 |\n",
       "| member | Wednesday |  808.0839 |\n",
       "\n"
      ],
      "text/plain": [
       "   all_trips_v2$member_casual all_trips_v2$day_of_week all_trips_v2$ride_length\n",
       "1  casual                     Friday                   3967.5253               \n",
       "2  member                     Friday                    819.5637               \n",
       "3  casual                     Monday                   3472.6890               \n",
       "4  member                     Monday                    832.8299               \n",
       "5  casual                     Saturday                 3378.9383               \n",
       "6  member                     Saturday                  962.6956               \n",
       "7  casual                     Sunday                   3642.4692               \n",
       "8  member                     Sunday                    918.0980               \n",
       "9  casual                     Thursday                 3830.7830               \n",
       "10 member                     Thursday                  827.8968               \n",
       "11 casual                     Tuesday                  3722.9366               \n",
       "12 member                     Tuesday                   817.0267               \n",
       "13 casual                     Wednesday                3923.3790               \n",
       "14 member                     Wednesday                 808.0839               "
      ]
     },
     "metadata": {},
     "output_type": "display_data"
    },
    {
     "name": "stderr",
     "output_type": "stream",
     "text": [
      "\u001b[1m\u001b[22m`summarise()` has grouped output by 'member_casual'. You can override using the\n",
      "`.groups` argument.\n"
     ]
    },
    {
     "data": {
      "text/html": [
       "<table class=\"dataframe\">\n",
       "<caption>A grouped_df: 14 × 4</caption>\n",
       "<thead>\n",
       "\t<tr><th scope=col>member_casual</th><th scope=col>weekday</th><th scope=col>number_of_rides</th><th scope=col>average_duration</th></tr>\n",
       "\t<tr><th scope=col>&lt;chr&gt;</th><th scope=col>&lt;ord&gt;</th><th scope=col>&lt;int&gt;</th><th scope=col>&lt;dbl&gt;</th></tr>\n",
       "</thead>\n",
       "<tbody>\n",
       "\t<tr><td>casual</td><td>Sun</td><td>150386</td><td>3642.4692</td></tr>\n",
       "\t<tr><td>casual</td><td>Mon</td><td> 79251</td><td>3472.6890</td></tr>\n",
       "\t<tr><td>casual</td><td>Tue</td><td> 74115</td><td>3722.9366</td></tr>\n",
       "\t<tr><td>casual</td><td>Wed</td><td> 75738</td><td>3923.3790</td></tr>\n",
       "\t<tr><td>casual</td><td>Thu</td><td> 82189</td><td>3830.7830</td></tr>\n",
       "\t<tr><td>casual</td><td>Fri</td><td> 98699</td><td>3967.5253</td></tr>\n",
       "\t<tr><td>casual</td><td>Sat</td><td>161485</td><td>3378.9383</td></tr>\n",
       "\t<tr><td>member</td><td>Sun</td><td>229255</td><td> 918.0980</td></tr>\n",
       "\t<tr><td>member</td><td>Mon</td><td>401577</td><td> 832.8299</td></tr>\n",
       "\t<tr><td>member</td><td>Tue</td><td>434799</td><td> 817.0267</td></tr>\n",
       "\t<tr><td>member</td><td>Wed</td><td>423147</td><td> 808.0839</td></tr>\n",
       "\t<tr><td>member</td><td>Thu</td><td>402334</td><td> 827.8968</td></tr>\n",
       "\t<tr><td>member</td><td>Fri</td><td>377230</td><td> 819.5637</td></tr>\n",
       "\t<tr><td>member</td><td>Sat</td><td>234106</td><td> 962.6956</td></tr>\n",
       "</tbody>\n",
       "</table>\n"
      ],
      "text/latex": [
       "A grouped\\_df: 14 × 4\n",
       "\\begin{tabular}{llll}\n",
       " member\\_casual & weekday & number\\_of\\_rides & average\\_duration\\\\\n",
       " <chr> & <ord> & <int> & <dbl>\\\\\n",
       "\\hline\n",
       "\t casual & Sun & 150386 & 3642.4692\\\\\n",
       "\t casual & Mon &  79251 & 3472.6890\\\\\n",
       "\t casual & Tue &  74115 & 3722.9366\\\\\n",
       "\t casual & Wed &  75738 & 3923.3790\\\\\n",
       "\t casual & Thu &  82189 & 3830.7830\\\\\n",
       "\t casual & Fri &  98699 & 3967.5253\\\\\n",
       "\t casual & Sat & 161485 & 3378.9383\\\\\n",
       "\t member & Sun & 229255 &  918.0980\\\\\n",
       "\t member & Mon & 401577 &  832.8299\\\\\n",
       "\t member & Tue & 434799 &  817.0267\\\\\n",
       "\t member & Wed & 423147 &  808.0839\\\\\n",
       "\t member & Thu & 402334 &  827.8968\\\\\n",
       "\t member & Fri & 377230 &  819.5637\\\\\n",
       "\t member & Sat & 234106 &  962.6956\\\\\n",
       "\\end{tabular}\n"
      ],
      "text/markdown": [
       "\n",
       "A grouped_df: 14 × 4\n",
       "\n",
       "| member_casual &lt;chr&gt; | weekday &lt;ord&gt; | number_of_rides &lt;int&gt; | average_duration &lt;dbl&gt; |\n",
       "|---|---|---|---|\n",
       "| casual | Sun | 150386 | 3642.4692 |\n",
       "| casual | Mon |  79251 | 3472.6890 |\n",
       "| casual | Tue |  74115 | 3722.9366 |\n",
       "| casual | Wed |  75738 | 3923.3790 |\n",
       "| casual | Thu |  82189 | 3830.7830 |\n",
       "| casual | Fri |  98699 | 3967.5253 |\n",
       "| casual | Sat | 161485 | 3378.9383 |\n",
       "| member | Sun | 229255 |  918.0980 |\n",
       "| member | Mon | 401577 |  832.8299 |\n",
       "| member | Tue | 434799 |  817.0267 |\n",
       "| member | Wed | 423147 |  808.0839 |\n",
       "| member | Thu | 402334 |  827.8968 |\n",
       "| member | Fri | 377230 |  819.5637 |\n",
       "| member | Sat | 234106 |  962.6956 |\n",
       "\n"
      ],
      "text/plain": [
       "   member_casual weekday number_of_rides average_duration\n",
       "1  casual        Sun     150386          3642.4692       \n",
       "2  casual        Mon      79251          3472.6890       \n",
       "3  casual        Tue      74115          3722.9366       \n",
       "4  casual        Wed      75738          3923.3790       \n",
       "5  casual        Thu      82189          3830.7830       \n",
       "6  casual        Fri      98699          3967.5253       \n",
       "7  casual        Sat     161485          3378.9383       \n",
       "8  member        Sun     229255           918.0980       \n",
       "9  member        Mon     401577           832.8299       \n",
       "10 member        Tue     434799           817.0267       \n",
       "11 member        Wed     423147           808.0839       \n",
       "12 member        Thu     402334           827.8968       \n",
       "13 member        Fri     377230           819.5637       \n",
       "14 member        Sat     234106           962.6956       "
      ]
     },
     "metadata": {},
     "output_type": "display_data"
    },
    {
     "name": "stderr",
     "output_type": "stream",
     "text": [
      "\u001b[1m\u001b[22m`summarise()` has grouped output by 'member_casual'. You can override using the\n",
      "`.groups` argument.\n",
      "\u001b[1m\u001b[22m`summarise()` has grouped output by 'member_casual'. You can override using the\n",
      "`.groups` argument.\n"
     ]
    },
    {
     "data": {
      "image/png": "[encoded data removed]"
     },
     "metadata": {
      "image/png": {
       "height": 420,
       "width": 420
      }
     },
     "output_type": "display_data"
    },
    {
     "data": {
      "image/png": "[encoded data removed]"
     },
     "metadata": {
      "image/png": {
       "height": 420,
       "width": 420
      }
     },
     "output_type": "display_data"
    }
   ],
   "source": [
    "#=====================================\n",
    "# STEP 4: CONDUCT DESCRIPTIVE ANALYSIS\n",
    "#=====================================\n",
    "# Descriptive analysis on ride_length (all figures in seconds)\n",
    "mean(all_trips_v2$ride_length) \n",
    "median(all_trips_v2$ride_length) \n",
    "max(all_trips_v2$ride_length) \n",
    "min(all_trips_v2$ride_length) \n",
    "\n",
    "# I condense the four lines above to one line using summary() on the specific attribute\n",
    "summary(all_trips_v2$ride_length)\n",
    "\n",
    "# Now, I compare members and casual users\n",
    "aggregate(all_trips_v2$ride_length ~ all_trips_v2$member_casual, FUN = mean)\n",
    "aggregate(all_trips_v2$ride_length ~ all_trips_v2$member_casual, FUN = median)\n",
    "aggregate(all_trips_v2$ride_length ~ all_trips_v2$member_casual, FUN = max)\n",
    "aggregate(all_trips_v2$ride_length ~ all_trips_v2$member_casual, FUN = min)\n",
    "\n",
    "# And then, I look at the average ride time by each day for members vs. casual users\n",
    "aggregate(all_trips_v2$ride_length ~ all_trips_v2$member_casual + all_trips_v2$day_of_week, FUN = mean)\n",
    "\n",
    "# I analyze ridership data by type and weekday\n",
    "all_trips_v2 %>% \n",
    "  mutate(weekday = wday(started_at, label = TRUE)) %>%  #creates weekday field using wday()\n",
    "  group_by(member_casual, weekday) %>%  #groups by usertype and weekday\n",
    "  summarise(number_of_rides = n()\t\t\t\t\t\t\t#calculates the number of rides and average duration \n",
    "            ,average_duration = mean(ride_length)) %>% \t\t# calculates the average duration\n",
    "  arrange(member_casual, weekday)\t\n",
    "\n",
    "# Let's visualize the number of rides by rider type\n",
    "all_trips_v2 %>% \n",
    "  mutate(weekday = wday(started_at, label = TRUE)) %>% \n",
    "  group_by(member_casual, weekday) %>% \n",
    "  summarise(number_of_rides = n()\n",
    "            ,average_duration = mean(ride_length)) %>% \n",
    "  arrange(member_casual, weekday)  %>% \n",
    "  ggplot(aes(x = weekday, y = number_of_rides, fill = member_casual)) +\n",
    "  geom_col(position = \"dodge\")\n",
    "\n",
    "# Let's create a visualization for average duration\n",
    "all_trips_v2 %>% \n",
    "  mutate(weekday = wday(started_at, label = TRUE)) %>% \n",
    "  group_by(member_casual, weekday) %>% \n",
    "  summarise(number_of_rides = n()\n",
    "            ,average_duration = mean(ride_length)) %>% \n",
    "  arrange(member_casual, weekday)  %>% \n",
    "  ggplot(aes(x = weekday, y = average_duration, fill = member_casual)) +\n",
    "  geom_col(position = \"dodge\")\n"
   ]
  },
  {
   "cell_type": "code",
   "execution_count": 10,
   "id": "919e3f60",
   "metadata": {
    "execution": {
     "iopub.execute_input": "2022-04-29T15:52:56.682609Z",
     "iopub.status.busy": "2022-04-29T15:52:56.680742Z",
     "iopub.status.idle": "2022-04-29T15:52:58.694440Z",
     "shell.execute_reply": "2022-04-29T15:52:58.692539Z"
    },
    "papermill": {
     "duration": 2.065012,
     "end_time": "2022-04-29T15:52:58.697200",
     "exception": false,
     "start_time": "2022-04-29T15:52:56.632188",
     "status": "completed"
    },
    "tags": [],
    "vscode": {
     "languageId": "r"
    }
   },
   "outputs": [],
   "source": [
    "#=================================================\n",
    "# STEP 5: EXPORT SUMMARY FILE FOR FURTHER ANALYSIS\n",
    "#=================================================\n",
    "# Create a csv file that we will visualize in Tableau \n",
    "counts <- aggregate(all_trips_v2$ride_length ~ all_trips_v2$member_casual + all_trips_v2$day_of_week, FUN = mean)\n",
    "write.csv(counts, file = \"C:\\\\Users\\\\cksac\\\\OneDrive\\\\Desktop\\\\Divvy_Exercise\\\\Cyclistic_Summary_Files.csv\", row.names = FALSE)"
   ]
  }
 ],
 "metadata": {
  "kernelspec": {
   "display_name": "R",
   "language": "R",
   "name": "ir"
  },
  "language_info": {
   "codemirror_mode": "r",
   "file_extension": ".r",
   "mimetype": "text/x-r-source",
   "name": "R",
   "pygments_lexer": "r",
   "version": "4.0.5"
  },
  "papermill": {
   "default_parameters": {},
   "duration": 214.136704,
   "end_time": "2022-04-29T15:52:59.166098",
   "environment_variables": {},
   "exception": null,
   "input_path": "__notebook__.ipynb",
   "output_path": "__notebook__.ipynb",
   "parameters": {},
   "start_time": "2022-04-29T15:49:25.029394",
   "version": "2.3.4"
  }
 },
 "nbformat": 4,
 "nbformat_minor": 5
}
